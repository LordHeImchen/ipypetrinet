{
 "cells": [
  {
   "cell_type": "markdown",
   "metadata": {},
   "source": [
    "# Introduction"
   ]
  },
  {
   "cell_type": "code",
   "execution_count": 1,
   "metadata": {},
   "outputs": [],
   "source": [
    "from ipypetrinet import PetriWidget"
   ]
  },
  {
   "cell_type": "code",
   "execution_count": 2,
   "metadata": {},
   "outputs": [],
   "source": [
    "# TODO: \n",
    "# - Conditions visuell im Graph hinzufügen!\n",
    "# - simulator.Variants.BASIC_PLAYOUT: als Parameter definieren\n",
    "# - auch noch schauen ob es eine Variante gibt die mit Loops umgehen kann bzw nicht unendlich läuft\n",
    "# - Wie bekommt man Bedingungen/Verteilungen rein (am besten definierbar in UI)"
   ]
  },
  {
   "cell_type": "markdown",
   "metadata": {},
   "source": [
    "Falls loops: Abbruchbedingung Tracelänge\n",
    "Ohne Loops: Directly Follows Graph zeichnen und durchgehen\n",
    "\n",
    "Implementierung von Petrinetzen im PM4PY durchgehen! (Braucht man directly follow graph überhaupt?)\n",
    "\n",
    "Informationen zu conditions (vll auch noch andere?!) in oberer rechten Ecke hinzufügen onclick oder onhover\n",
    "\n",
    "Gliederung erstellen"
   ]
  },
  {
   "cell_type": "code",
   "execution_count": 3,
   "metadata": {
    "scrolled": false
   },
   "outputs": [
    {
     "data": {
      "application/vnd.jupyter.widget-view+json": {
       "model_id": "5c56759101324dd39f7b486e27043bf5",
       "version_major": 2,
       "version_minor": 0
      },
      "text/plain": [
       "PetriWidget()"
      ]
     },
     "metadata": {},
     "output_type": "display_data"
    }
   ],
   "source": [
    "# descriptionbox input-field type description/textarea\n",
    "w = PetriWidget()\n",
    "w"
   ]
  },
  {
   "cell_type": "code",
   "execution_count": 13,
   "metadata": {
    "scrolled": false
   },
   "outputs": [
    {
     "data": {
      "text/plain": [
       "[{'type': 'Place',\n",
       "  'id': '4979bf01-db6a-4804-8f8e-9ed08a6142af',\n",
       "  'name': 'ready',\n",
       "  'tokens': 1},\n",
       " {'type': 'Place',\n",
       "  'id': '838f460d-cc51-40bb-b243-abf2f5afcdac',\n",
       "  'name': 'idle',\n",
       "  'tokens': 2},\n",
       " {'type': 'Place',\n",
       "  'id': '79021d1d-64d7-42f3-80ce-a5736ea21503',\n",
       "  'name': 'buffer',\n",
       "  'tokens': 12},\n",
       " {'type': 'Place',\n",
       "  'id': '07899fd3-87da-4b9a-954d-894100035036',\n",
       "  'name': 'accepted',\n",
       "  'tokens': 1},\n",
       " {'type': 'Place',\n",
       "  'id': '444e77a4-4cd6-434b-9544-e77de45568ba',\n",
       "  'name': 'ready',\n",
       "  'tokens': 1},\n",
       " {'type': 'Transition',\n",
       "  'id': '3946dac7-cdbd-49a4-9a0a-a40b0407d9db',\n",
       "  'name': 'produce',\n",
       "  'conditions': ['costs > 1498']},\n",
       " {'type': 'Transition',\n",
       "  'id': 'f4f34ac1-f368-476b-81e5-cf9b65b96c9e',\n",
       "  'name': 'send',\n",
       "  'conditions': []},\n",
       " {'type': 'Transition',\n",
       "  'id': '5b945826-fe5b-4aee-aed6-0b1a75fd55ba',\n",
       "  'name': 'accept',\n",
       "  'conditions': []},\n",
       " {'type': 'Transition',\n",
       "  'id': '04894340-c7e6-4aa2-bf75-4dd11c3879ee',\n",
       "  'name': 'consume',\n",
       "  'conditions': []},\n",
       " {'type': 'Link',\n",
       "  'id': '029a8687-c4fa-462a-8e6a-8400c0d69531',\n",
       "  'prob': 1,\n",
       "  'source': '3946dac7-cdbd-49a4-9a0a-a40b0407d9db',\n",
       "  'target': '4979bf01-db6a-4804-8f8e-9ed08a6142af'},\n",
       " {'type': 'Link',\n",
       "  'id': 'abca9173-0979-40f7-aac2-64e4b6f1ed19',\n",
       "  'prob': 1,\n",
       "  'source': '4979bf01-db6a-4804-8f8e-9ed08a6142af',\n",
       "  'target': 'f4f34ac1-f368-476b-81e5-cf9b65b96c9e'},\n",
       " {'type': 'Link',\n",
       "  'id': 'be376aba-5aa9-4930-bd63-db3827db6828',\n",
       "  'prob': 1,\n",
       "  'source': 'f4f34ac1-f368-476b-81e5-cf9b65b96c9e',\n",
       "  'target': '838f460d-cc51-40bb-b243-abf2f5afcdac'},\n",
       " {'type': 'Link',\n",
       "  'id': '3d4a8be9-e79d-4593-91cd-3157e82cd16e',\n",
       "  'prob': 1,\n",
       "  'source': '838f460d-cc51-40bb-b243-abf2f5afcdac',\n",
       "  'target': '3946dac7-cdbd-49a4-9a0a-a40b0407d9db'},\n",
       " {'type': 'Link',\n",
       "  'id': '53b70006-9dd4-4c0f-80e7-97ac550537f3',\n",
       "  'prob': 1,\n",
       "  'source': 'f4f34ac1-f368-476b-81e5-cf9b65b96c9e',\n",
       "  'target': '79021d1d-64d7-42f3-80ce-a5736ea21503'},\n",
       " {'type': 'Link',\n",
       "  'id': 'c54af8d4-7a62-490b-b9b8-dfafeb581c3c',\n",
       "  'prob': 1,\n",
       "  'source': '79021d1d-64d7-42f3-80ce-a5736ea21503',\n",
       "  'target': '5b945826-fe5b-4aee-aed6-0b1a75fd55ba'},\n",
       " {'type': 'Link',\n",
       "  'id': '60940bae-ab9f-4511-b85b-b8c76cf02a99',\n",
       "  'prob': 1,\n",
       "  'source': '5b945826-fe5b-4aee-aed6-0b1a75fd55ba',\n",
       "  'target': '07899fd3-87da-4b9a-954d-894100035036'},\n",
       " {'type': 'Link',\n",
       "  'id': '3c2bbf6d-7b28-46f9-8eec-7f809e29ebb8',\n",
       "  'prob': 1,\n",
       "  'source': '07899fd3-87da-4b9a-954d-894100035036',\n",
       "  'target': '04894340-c7e6-4aa2-bf75-4dd11c3879ee'},\n",
       " {'type': 'Link',\n",
       "  'id': 'f0825985-1ab5-4685-98a4-ec9143ae66d1',\n",
       "  'prob': 1,\n",
       "  'source': '04894340-c7e6-4aa2-bf75-4dd11c3879ee',\n",
       "  'target': '444e77a4-4cd6-434b-9544-e77de45568ba'},\n",
       " {'type': 'Link',\n",
       "  'id': '820af070-95d8-40fd-9298-e79f14da817a',\n",
       "  'prob': 1,\n",
       "  'source': '444e77a4-4cd6-434b-9544-e77de45568ba',\n",
       "  'target': '5b945826-fe5b-4aee-aed6-0b1a75fd55ba'}]"
      ]
     },
     "execution_count": 13,
     "metadata": {},
     "output_type": "execute_result"
    }
   ],
   "source": [
    "cells = w.graph\n",
    "w.graph"
   ]
  },
  {
   "cell_type": "code",
   "execution_count": 5,
   "metadata": {},
   "outputs": [
    {
     "data": {
      "text/plain": [
       "{'_dom_classes': (),\n",
       " '_model_module': 'ipypetrinet',\n",
       " '_model_module_version': '^0.1.0',\n",
       " '_model_name': 'PetriModel',\n",
       " '_view_count': None,\n",
       " '_view_module': 'ipypetrinet',\n",
       " '_view_module_version': '^0.1.0',\n",
       " '_view_name': 'PetriView',\n",
       " 'graph': [],\n",
       " 'layout': 'IPY_MODEL_582933b8d4664ad2b51d84e35e2203c2'}"
      ]
     },
     "execution_count": 5,
     "metadata": {},
     "output_type": "execute_result"
    }
   ],
   "source": [
    "w.get_state()"
   ]
  },
  {
   "cell_type": "code",
   "execution_count": null,
   "metadata": {},
   "outputs": [],
   "source": []
  }
 ],
 "metadata": {
  "kernelspec": {
   "display_name": "Python 3 (ipykernel)",
   "language": "python",
   "name": "python3"
  },
  "language_info": {
   "codemirror_mode": {
    "name": "ipython",
    "version": 3
   },
   "file_extension": ".py",
   "mimetype": "text/x-python",
   "name": "python",
   "nbconvert_exporter": "python",
   "pygments_lexer": "ipython3",
   "version": "3.9.7"
  }
 },
 "nbformat": 4,
 "nbformat_minor": 2
}
