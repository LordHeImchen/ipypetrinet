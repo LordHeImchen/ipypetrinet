{
 "cells": [
  {
   "cell_type": "markdown",
   "metadata": {},
   "source": [
    "# Introduction"
   ]
  },
  {
   "cell_type": "code",
   "execution_count": 1,
   "metadata": {},
   "outputs": [],
   "source": [
    "from ipypetrinet import PetriWidget"
   ]
  },
  {
   "cell_type": "code",
   "execution_count": 2,
   "metadata": {},
   "outputs": [],
   "source": [
    "# TODO: \n",
    "# - simulator.Variants.BASIC_PLAYOUT: als Parameter definieren\n",
    "# - auch noch schauen ob es eine Variante gibt die mit Loops umgehen kann bzw nicht unendlich läuft\n",
    "# - Wie bekommt man Bedingungen/Verteilungen rein (am besten definierbar in UI)"
   ]
  },
  {
   "cell_type": "markdown",
   "metadata": {},
   "source": [
    "Falls loops: Abbruchbedingung Tracelänge\n",
    "Ohne Loops: Directly Follows Graph zeichnen und durchgehen\n",
    "\n",
    "Implementierung von Petrinetzen im PM4PY durchgehen! (Braucht man directly follow graph überhaupt?)\n",
    "\n",
    "Informationen zu conditions (vll auch noch andere?!) in oberer rechten Ecke hinzufügen onclick oder onhover\n",
    "\n",
    "Gliederung erstellen"
   ]
  },
  {
   "cell_type": "code",
   "execution_count": 3,
   "metadata": {
    "scrolled": false
   },
   "outputs": [
    {
     "data": {
      "application/vnd.jupyter.widget-view+json": {
       "model_id": "a52df815562e47c8b73b517cf0995409",
       "version_major": 2,
       "version_minor": 0
      },
      "text/plain": [
       "PetriWidget()"
      ]
     },
     "metadata": {},
     "output_type": "display_data"
    }
   ],
   "source": [
    "# descriptionbox input-field type description/textarea\n",
    "w = PetriWidget()\n",
    "w"
   ]
  },
  {
   "cell_type": "code",
   "execution_count": 8,
   "metadata": {
    "scrolled": false
   },
   "outputs": [
    {
     "data": {
      "text/plain": [
       "[{'type': 'Link',\n",
       "  'id': 'ecf0c339-cd65-4628-86c9-f29da22e232d',\n",
       "  'prob': 1,\n",
       "  'source': 'd0a622b8-ca37-45b1-a40f-5139cc14f949',\n",
       "  'target': '3f6592ca-cb8a-4b36-8f35-548d77af464c'},\n",
       " {'type': 'Link',\n",
       "  'id': '4ded7b7a-d511-4f3b-b536-fc4c59dfe676',\n",
       "  'prob': 1,\n",
       "  'source': '3f6592ca-cb8a-4b36-8f35-548d77af464c',\n",
       "  'target': '635c17c7-6d31-42eb-a437-701e0fec22a6'},\n",
       " {'type': 'Link',\n",
       "  'id': 'fe088b2d-3ea3-4ee8-af5d-bfafade9f21b',\n",
       "  'prob': 1,\n",
       "  'source': '635c17c7-6d31-42eb-a437-701e0fec22a6',\n",
       "  'target': 'c82db040-a1b1-4516-a1c9-a43b0eed7530'},\n",
       " {'type': 'Link',\n",
       "  'id': '7acf771f-5ccc-4ac2-8033-744808846051',\n",
       "  'prob': 1,\n",
       "  'source': 'c82db040-a1b1-4516-a1c9-a43b0eed7530',\n",
       "  'target': 'd6b8e943-8fad-419f-92e5-c0f3312fbb68'},\n",
       " {'type': 'Link',\n",
       "  'id': '9d463bcc-bb4d-4821-9d8b-3010702e29d3',\n",
       "  'prob': 0.25,\n",
       "  'source': 'd6b8e943-8fad-419f-92e5-c0f3312fbb68',\n",
       "  'target': '2f5beb40-c549-4018-aa25-bfb004515531'},\n",
       " {'type': 'Link',\n",
       "  'id': '6e6dc711-7cbd-4102-a7a0-5fd90eff1134',\n",
       "  'prob': 1,\n",
       "  'source': '2f5beb40-c549-4018-aa25-bfb004515531',\n",
       "  'target': '2309efd4-06dc-4abb-a7e0-457df46df5c9'},\n",
       " {'type': 'Link',\n",
       "  'id': '3e56839b-93d6-4f3d-89f8-00c8b01448cb',\n",
       "  'prob': 1,\n",
       "  'source': '2309efd4-06dc-4abb-a7e0-457df46df5c9',\n",
       "  'target': '0cbcb157-9db7-4676-aa9a-1436056cf4eb'},\n",
       " {'type': 'Link',\n",
       "  'id': 'bf22e95e-ace9-4428-9ac8-566ad269345b',\n",
       "  'prob': 1,\n",
       "  'source': 'b67a016d-0759-4527-ae71-51ad9564d529',\n",
       "  'target': '062be484-0690-42c7-a031-bd5acff21b13'},\n",
       " {'type': 'Link',\n",
       "  'id': 'd8704812-e053-4087-a90b-83bfc4ad0fef',\n",
       "  'prob': 0.75,\n",
       "  'source': 'd6b8e943-8fad-419f-92e5-c0f3312fbb68',\n",
       "  'target': '4d941593-f55c-4bd2-b9f6-e13a27350c6b'},\n",
       " {'type': 'Link',\n",
       "  'id': '5fc93a8d-bfaf-4d40-b19e-fa7add8554ef',\n",
       "  'prob': 1,\n",
       "  'source': '4d941593-f55c-4bd2-b9f6-e13a27350c6b',\n",
       "  'target': 'b67a016d-0759-4527-ae71-51ad9564d529'},\n",
       " {'type': 'Link',\n",
       "  'id': 'e1d7cb0c-9ae7-4aee-9e90-863252ca30ed',\n",
       "  'prob': 1,\n",
       "  'source': '0cbcb157-9db7-4676-aa9a-1436056cf4eb',\n",
       "  'target': '241004b5-3ea7-4753-9f86-027e9fa83695'},\n",
       " {'type': 'Link',\n",
       "  'id': '755d4937-6948-4114-99bd-64d337b401c2',\n",
       "  'prob': 1,\n",
       "  'source': '062be484-0690-42c7-a031-bd5acff21b13',\n",
       "  'target': '6ed6b2df-6ce6-4d8a-8169-2568b3339d68'},\n",
       " {'type': 'Link',\n",
       "  'id': '0b6bcb58-352f-467e-a6d6-78ada5cd5dcf',\n",
       "  'prob': 1,\n",
       "  'source': '241004b5-3ea7-4753-9f86-027e9fa83695',\n",
       "  'target': 'd8dde9b7-a9a7-4adb-a69f-f443b5135fda'},\n",
       " {'type': 'Link',\n",
       "  'id': 'a8ea9682-f2f0-4f0d-8745-4b9c07459e05',\n",
       "  'prob': 1,\n",
       "  'source': '6ed6b2df-6ce6-4d8a-8169-2568b3339d68',\n",
       "  'target': 'd8dde9b7-a9a7-4adb-a69f-f443b5135fda'},\n",
       " {'type': 'Link',\n",
       "  'id': 'c59a938f-cdaa-42cd-895b-8568545bb069',\n",
       "  'prob': 1,\n",
       "  'source': 'd8dde9b7-a9a7-4adb-a69f-f443b5135fda',\n",
       "  'target': '72f5c8ba-e8ed-4515-be60-4c3a09492d5a'},\n",
       " {'type': 'Place',\n",
       "  'id': 'd0a622b8-ca37-45b1-a40f-5139cc14f949',\n",
       "  'name': '',\n",
       "  'tokens': 1},\n",
       " {'type': 'Transition',\n",
       "  'id': '3f6592ca-cb8a-4b36-8f35-548d77af464c',\n",
       "  'name': 't1',\n",
       "  'conditions': []},\n",
       " {'type': 'Place',\n",
       "  'id': '635c17c7-6d31-42eb-a437-701e0fec22a6',\n",
       "  'name': '',\n",
       "  'tokens': 0},\n",
       " {'type': 'Transition',\n",
       "  'id': 'c82db040-a1b1-4516-a1c9-a43b0eed7530',\n",
       "  'name': 't2',\n",
       "  'conditions': []},\n",
       " {'type': 'Place',\n",
       "  'id': 'd6b8e943-8fad-419f-92e5-c0f3312fbb68',\n",
       "  'name': '',\n",
       "  'tokens': 0},\n",
       " {'type': 'Transition',\n",
       "  'id': '2f5beb40-c549-4018-aa25-bfb004515531',\n",
       "  'name': 't3',\n",
       "  'conditions': []},\n",
       " {'type': 'Place',\n",
       "  'id': '2309efd4-06dc-4abb-a7e0-457df46df5c9',\n",
       "  'name': '',\n",
       "  'tokens': 0},\n",
       " {'type': 'Transition',\n",
       "  'id': '0cbcb157-9db7-4676-aa9a-1436056cf4eb',\n",
       "  'name': 't4',\n",
       "  'conditions': []},\n",
       " {'type': 'Place',\n",
       "  'id': 'b67a016d-0759-4527-ae71-51ad9564d529',\n",
       "  'name': '',\n",
       "  'tokens': 0},\n",
       " {'type': 'Transition',\n",
       "  'id': '4d941593-f55c-4bd2-b9f6-e13a27350c6b',\n",
       "  'name': 't5',\n",
       "  'conditions': []},\n",
       " {'type': 'Transition',\n",
       "  'id': '062be484-0690-42c7-a031-bd5acff21b13',\n",
       "  'name': 't6',\n",
       "  'conditions': []},\n",
       " {'type': 'Place',\n",
       "  'id': '241004b5-3ea7-4753-9f86-027e9fa83695',\n",
       "  'name': '',\n",
       "  'tokens': 0},\n",
       " {'type': 'Place',\n",
       "  'id': '6ed6b2df-6ce6-4d8a-8169-2568b3339d68',\n",
       "  'name': '',\n",
       "  'tokens': 0},\n",
       " {'type': 'Transition',\n",
       "  'id': 'd8dde9b7-a9a7-4adb-a69f-f443b5135fda',\n",
       "  'name': 't7',\n",
       "  'conditions': []},\n",
       " {'type': 'Place',\n",
       "  'id': '72f5c8ba-e8ed-4515-be60-4c3a09492d5a',\n",
       "  'name': '',\n",
       "  'tokens': 0}]"
      ]
     },
     "execution_count": 8,
     "metadata": {},
     "output_type": "execute_result"
    }
   ],
   "source": [
    "cells = w.graph\n",
    "w.graph"
   ]
  },
  {
   "cell_type": "code",
   "execution_count": 5,
   "metadata": {},
   "outputs": [
    {
     "data": {
      "text/plain": [
       "{'_dom_classes': (),\n",
       " '_model_module': 'ipypetrinet',\n",
       " '_model_module_version': '^0.1.0',\n",
       " '_model_name': 'PetriModel',\n",
       " '_view_count': None,\n",
       " '_view_module': 'ipypetrinet',\n",
       " '_view_module_version': '^0.1.0',\n",
       " '_view_name': 'PetriView',\n",
       " 'graph': [],\n",
       " 'layout': 'IPY_MODEL_d44c047c6f744d74b214bff63f1585a9'}"
      ]
     },
     "execution_count": 5,
     "metadata": {},
     "output_type": "execute_result"
    }
   ],
   "source": [
    "w.get_state()"
   ]
  },
  {
   "cell_type": "code",
   "execution_count": null,
   "metadata": {},
   "outputs": [],
   "source": []
  }
 ],
 "metadata": {
  "kernelspec": {
   "display_name": "Python 3 (ipykernel)",
   "language": "python",
   "name": "python3"
  },
  "language_info": {
   "codemirror_mode": {
    "name": "ipython",
    "version": 3
   },
   "file_extension": ".py",
   "mimetype": "text/x-python",
   "name": "python",
   "nbconvert_exporter": "python",
   "pygments_lexer": "ipython3",
   "version": "3.9.7"
  }
 },
 "nbformat": 4,
 "nbformat_minor": 2
}
