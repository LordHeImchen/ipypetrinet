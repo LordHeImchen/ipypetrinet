{
 "cells": [
  {
   "cell_type": "markdown",
   "metadata": {},
   "source": [
    "# Introduction"
   ]
  },
  {
   "cell_type": "code",
   "execution_count": 1,
   "metadata": {},
   "outputs": [],
   "source": [
    "from ipypetrinet import PetriWidget"
   ]
  },
  {
   "cell_type": "code",
   "execution_count": 2,
   "metadata": {},
   "outputs": [],
   "source": [
    "# TODO: \n",
    "# - Conditions visuell im Graph hinzufügen!\n",
    "# - Wahrscheinlichkeiten für Links definieren!\n",
    "# - simulator.Variants.BASIC_PLAYOUT: als Parameter definieren\n",
    "# - auch noch schauen ob es eine Variante gibt die mit Loops umgehen kann bzw nicht unendlich läuft\n",
    "# - Wie bekommt man Bedingungen/Verteilungen rein (am besten definierbar in UI)"
   ]
  },
  {
   "cell_type": "code",
   "execution_count": 3,
   "metadata": {
    "scrolled": false
   },
   "outputs": [
    {
     "data": {
      "application/vnd.jupyter.widget-view+json": {
       "model_id": "55cd0ae5f5144d368d12f51ab1e5d381",
       "version_major": 2,
       "version_minor": 0
      },
      "text/plain": [
       "PetriWidget()"
      ]
     },
     "metadata": {},
     "output_type": "display_data"
    }
   ],
   "source": [
    "# descriptionbox input-field type description/textarea\n",
    "w = PetriWidget()\n",
    "w"
   ]
  },
  {
   "cell_type": "code",
   "execution_count": 7,
   "metadata": {
    "scrolled": true
   },
   "outputs": [
    {
     "data": {
      "text/plain": [
       "[{'type': 'Place',\n",
       "  'id': 'bacc4032-d1cd-471d-b9c7-1a0b7ca4f8f4',\n",
       "  'name': 'ready',\n",
       "  'tokens': 1},\n",
       " {'type': 'Place',\n",
       "  'id': '7ee19fa4-4333-4282-97f7-4a4e3a1f8934',\n",
       "  'name': 'idle',\n",
       "  'tokens': 2},\n",
       " {'type': 'Place',\n",
       "  'id': 'b77f7fa1-3aba-43ae-b4e5-e05bb5a9ae7e',\n",
       "  'name': 'buffer',\n",
       "  'tokens': 12},\n",
       " {'type': 'Place',\n",
       "  'id': 'a1a7ca14-5e23-4693-b2d6-408a53d4d34a',\n",
       "  'name': 'accepted',\n",
       "  'tokens': 1},\n",
       " {'type': 'Place',\n",
       "  'id': '73370f37-c593-43c2-91c8-abcf54c667f1',\n",
       "  'name': 'accepted',\n",
       "  'tokens': 1},\n",
       " {'type': 'Transition',\n",
       "  'id': '48b55167-d9c1-44b9-a0a6-9bdb5b770b0b',\n",
       "  'name': 'produce',\n",
       "  'conditions': []},\n",
       " {'type': 'Transition',\n",
       "  'id': '04f22593-9619-4775-aa0a-617f552a7edf',\n",
       "  'name': 'send',\n",
       "  'conditions': []},\n",
       " {'type': 'Transition',\n",
       "  'id': 'bf62839f-75e5-479e-ab24-dc1470ce6224',\n",
       "  'name': 'accept',\n",
       "  'conditions': []},\n",
       " {'type': 'Transition',\n",
       "  'id': '129dd9b2-53c7-46bd-85cf-f453e12392dc',\n",
       "  'name': 'consume',\n",
       "  'conditions': []},\n",
       " {'type': 'Link',\n",
       "  'id': 'd1d832c1-4e05-4d18-b1f7-29c68694edc6',\n",
       "  'prob': 1,\n",
       "  'source': '48b55167-d9c1-44b9-a0a6-9bdb5b770b0b',\n",
       "  'target': 'bacc4032-d1cd-471d-b9c7-1a0b7ca4f8f4'},\n",
       " {'type': 'Link',\n",
       "  'id': '7826e3bb-3e08-48ea-8bf1-f7f62a2a190f',\n",
       "  'prob': 0.9,\n",
       "  'source': 'bacc4032-d1cd-471d-b9c7-1a0b7ca4f8f4',\n",
       "  'target': '04f22593-9619-4775-aa0a-617f552a7edf'},\n",
       " {'type': 'Link',\n",
       "  'id': '638c9a28-de62-497b-82f4-f9e1f98fccda',\n",
       "  'prob': 0.75,\n",
       "  'source': '04f22593-9619-4775-aa0a-617f552a7edf',\n",
       "  'target': '7ee19fa4-4333-4282-97f7-4a4e3a1f8934'},\n",
       " {'type': 'Link',\n",
       "  'id': 'fddea303-18cd-4b83-b7f7-6b3e989f4147',\n",
       "  'prob': 1,\n",
       "  'source': '7ee19fa4-4333-4282-97f7-4a4e3a1f8934',\n",
       "  'target': '48b55167-d9c1-44b9-a0a6-9bdb5b770b0b'},\n",
       " {'type': 'Link',\n",
       "  'id': '6b529684-69a0-4438-9d65-0c9dc42f865f',\n",
       "  'prob': 1,\n",
       "  'source': '04f22593-9619-4775-aa0a-617f552a7edf',\n",
       "  'target': 'b77f7fa1-3aba-43ae-b4e5-e05bb5a9ae7e'},\n",
       " {'type': 'Link',\n",
       "  'id': '9a3cb241-41e6-482c-aed9-a82660f6b270',\n",
       "  'prob': 1,\n",
       "  'source': 'b77f7fa1-3aba-43ae-b4e5-e05bb5a9ae7e',\n",
       "  'target': 'bf62839f-75e5-479e-ab24-dc1470ce6224'},\n",
       " {'type': 'Link',\n",
       "  'id': '81fc6e68-6e54-4b91-a456-d4c9b6b223da',\n",
       "  'prob': 0.25,\n",
       "  'source': 'bf62839f-75e5-479e-ab24-dc1470ce6224',\n",
       "  'target': 'a1a7ca14-5e23-4693-b2d6-408a53d4d34a'},\n",
       " {'type': 'Link',\n",
       "  'id': 'db6c4f08-fa11-42ff-9f70-f07056575182',\n",
       "  'prob': 1,\n",
       "  'source': 'a1a7ca14-5e23-4693-b2d6-408a53d4d34a',\n",
       "  'target': '129dd9b2-53c7-46bd-85cf-f453e12392dc'},\n",
       " {'type': 'Link',\n",
       "  'id': 'cf0a2e0d-29cf-43ec-a4e5-f7a1283dea8a',\n",
       "  'prob': 0.1,\n",
       "  'source': '129dd9b2-53c7-46bd-85cf-f453e12392dc',\n",
       "  'target': '73370f37-c593-43c2-91c8-abcf54c667f1'},\n",
       " {'type': 'Link',\n",
       "  'id': '2cb70572-984d-4209-8f66-edaa8cbd2cd8',\n",
       "  'prob': 1,\n",
       "  'source': '73370f37-c593-43c2-91c8-abcf54c667f1',\n",
       "  'target': 'bf62839f-75e5-479e-ab24-dc1470ce6224'}]"
      ]
     },
     "execution_count": 7,
     "metadata": {},
     "output_type": "execute_result"
    }
   ],
   "source": [
    "cells = w.graph\n",
    "w.graph"
   ]
  },
  {
   "cell_type": "code",
   "execution_count": 5,
   "metadata": {},
   "outputs": [
    {
     "data": {
      "text/plain": [
       "{'_dom_classes': (),\n",
       " '_model_module': 'ipypetrinet',\n",
       " '_model_module_version': '^0.1.0',\n",
       " '_model_name': 'PetriModel',\n",
       " '_view_count': None,\n",
       " '_view_module': 'ipypetrinet',\n",
       " '_view_module_version': '^0.1.0',\n",
       " '_view_name': 'PetriView',\n",
       " 'graph': [],\n",
       " 'layout': 'IPY_MODEL_50b56da5dce5467a8e0d0c69ccdda493'}"
      ]
     },
     "execution_count": 5,
     "metadata": {},
     "output_type": "execute_result"
    }
   ],
   "source": [
    "w.get_state()"
   ]
  },
  {
   "cell_type": "code",
   "execution_count": null,
   "metadata": {},
   "outputs": [],
   "source": []
  }
 ],
 "metadata": {
  "kernelspec": {
   "display_name": "Python 3 (ipykernel)",
   "language": "python",
   "name": "python3"
  },
  "language_info": {
   "codemirror_mode": {
    "name": "ipython",
    "version": 3
   },
   "file_extension": ".py",
   "mimetype": "text/x-python",
   "name": "python",
   "nbconvert_exporter": "python",
   "pygments_lexer": "ipython3",
   "version": "3.9.7"
  }
 },
 "nbformat": 4,
 "nbformat_minor": 2
}
