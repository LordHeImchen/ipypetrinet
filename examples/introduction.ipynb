{
 "cells": [
  {
   "cell_type": "markdown",
   "metadata": {},
   "source": [
    "# Introduction"
   ]
  },
  {
   "cell_type": "code",
   "execution_count": 1,
   "metadata": {},
   "outputs": [],
   "source": [
    "from ipypetrinet import PetriWidget"
   ]
  },
  {
   "cell_type": "code",
   "execution_count": 2,
   "metadata": {
    "scrolled": false
   },
   "outputs": [
    {
     "data": {
      "application/vnd.jupyter.widget-view+json": {
       "model_id": "5eb82104402349fb9b61c6fb80747054",
       "version_major": 2,
       "version_minor": 0
      },
      "text/plain": [
       "PetriWidget()"
      ]
     },
     "metadata": {},
     "output_type": "display_data"
    }
   ],
   "source": [
    "w = PetriWidget()\n",
    "w"
   ]
  },
  {
   "cell_type": "code",
   "execution_count": 12,
   "metadata": {},
   "outputs": [
    {
     "data": {
      "text/plain": [
       "[]"
      ]
     },
     "execution_count": 12,
     "metadata": {},
     "output_type": "execute_result"
    }
   ],
   "source": [
    "w.caseAttrs"
   ]
  },
  {
   "cell_type": "code",
   "execution_count": 13,
   "metadata": {
    "scrolled": false
   },
   "outputs": [
    {
     "data": {
      "text/plain": [
       "[{'type': 'Link',\n",
       "  'id': '01510b3d-f4a7-475a-ae84-453e55530363',\n",
       "  'prob': 1,\n",
       "  'source': '0547c66d-0cc0-4103-ad5e-7c794639dc8d',\n",
       "  'target': 'c14fc2d6-d57c-433f-8a49-5ab8d26b03b8'},\n",
       " {'type': 'Link',\n",
       "  'id': '37cb7362-63d0-41ac-9bff-d3bd396e3fbd',\n",
       "  'prob': 1,\n",
       "  'source': 'c14fc2d6-d57c-433f-8a49-5ab8d26b03b8',\n",
       "  'target': 'b60fcfa6-5cab-4304-b0dd-72f4d0c87002'},\n",
       " {'type': 'Link',\n",
       "  'id': '319edae4-13b7-4dcc-abe2-11867d3869c6',\n",
       "  'prob': 1,\n",
       "  'source': 'b60fcfa6-5cab-4304-b0dd-72f4d0c87002',\n",
       "  'target': '130b3ee5-b0ef-49d0-9534-828dd0806831'},\n",
       " {'type': 'Link',\n",
       "  'id': 'de6ff724-4674-4e02-a5d3-c16363677911',\n",
       "  'prob': 1,\n",
       "  'source': '130b3ee5-b0ef-49d0-9534-828dd0806831',\n",
       "  'target': '0547c66d-0cc0-4103-ad5e-7c794639dc8d'},\n",
       " {'type': 'Link',\n",
       "  'id': '1c1bcfe4-de1b-4fe2-8187-9b55e7c5d6eb',\n",
       "  'prob': 1,\n",
       "  'source': 'b60fcfa6-5cab-4304-b0dd-72f4d0c87002',\n",
       "  'target': '66743bae-4a2a-4aa7-b0a2-25964bf4a3a3'},\n",
       " {'type': 'Link',\n",
       "  'id': 'a255f4db-4ea1-4141-9fc7-ec93761fa800',\n",
       "  'prob': 1,\n",
       "  'source': '66743bae-4a2a-4aa7-b0a2-25964bf4a3a3',\n",
       "  'target': 'dc83f9ab-709f-419c-a433-f29d2594a889'},\n",
       " {'type': 'Link',\n",
       "  'id': 'de6b46a3-f796-4b62-a4c6-5080320caeec',\n",
       "  'prob': 1,\n",
       "  'source': 'dc83f9ab-709f-419c-a433-f29d2594a889',\n",
       "  'target': '51d453c5-11e4-49ac-b811-a84f9094b0a3'},\n",
       " {'type': 'Link',\n",
       "  'id': 'd5f5e57c-205e-427b-8d7f-5b1cedda4f54',\n",
       "  'prob': 1,\n",
       "  'source': '51d453c5-11e4-49ac-b811-a84f9094b0a3',\n",
       "  'target': '283eb68b-807b-4991-b162-926e1ef2ce25'},\n",
       " {'type': 'Link',\n",
       "  'id': '5b15990d-5a76-4bca-9519-42dcaef1205f',\n",
       "  'prob': 1,\n",
       "  'source': '283eb68b-807b-4991-b162-926e1ef2ce25',\n",
       "  'target': '4059a613-f639-4651-b9d7-d69dee66d4fa'},\n",
       " {'type': 'Link',\n",
       "  'id': 'fc157807-47a9-4f5f-b933-88281004db96',\n",
       "  'prob': 1,\n",
       "  'source': '4059a613-f639-4651-b9d7-d69dee66d4fa',\n",
       "  'target': 'dc83f9ab-709f-419c-a433-f29d2594a889'},\n",
       " {'type': 'Place',\n",
       "  'id': 'c14fc2d6-d57c-433f-8a49-5ab8d26b03b8',\n",
       "  'name': 'ready',\n",
       "  'tokens': 1},\n",
       " {'type': 'Place',\n",
       "  'id': '130b3ee5-b0ef-49d0-9534-828dd0806831',\n",
       "  'name': 'idle',\n",
       "  'tokens': 2},\n",
       " {'type': 'Place',\n",
       "  'id': '66743bae-4a2a-4aa7-b0a2-25964bf4a3a3',\n",
       "  'name': 'buffer',\n",
       "  'tokens': 12},\n",
       " {'type': 'Place',\n",
       "  'id': '51d453c5-11e4-49ac-b811-a84f9094b0a3',\n",
       "  'name': 'accepted',\n",
       "  'tokens': 1},\n",
       " {'type': 'Place',\n",
       "  'id': '4059a613-f639-4651-b9d7-d69dee66d4fa',\n",
       "  'name': 'ready',\n",
       "  'tokens': 1},\n",
       " {'type': 'Transition',\n",
       "  'id': '0547c66d-0cc0-4103-ad5e-7c794639dc8d',\n",
       "  'name': 'produce',\n",
       "  'exectime': '1',\n",
       "  'conditions': [],\n",
       "  'eventattrs': ['DenialOfService=random.binomial(n=12, p=0.15)']},\n",
       " {'type': 'Transition',\n",
       "  'id': 'b60fcfa6-5cab-4304-b0dd-72f4d0c87002',\n",
       "  'name': 'send',\n",
       "  'exectime': '1',\n",
       "  'conditions': [],\n",
       "  'eventattrs': []},\n",
       " {'type': 'Transition',\n",
       "  'id': 'dc83f9ab-709f-419c-a433-f29d2594a889',\n",
       "  'name': 'accept',\n",
       "  'exectime': '1',\n",
       "  'conditions': [],\n",
       "  'eventattrs': []},\n",
       " {'type': 'Transition',\n",
       "  'id': '283eb68b-807b-4991-b162-926e1ef2ce25',\n",
       "  'name': 'consume',\n",
       "  'exectime': '1',\n",
       "  'conditions': [],\n",
       "  'eventattrs': []}]"
      ]
     },
     "execution_count": 13,
     "metadata": {},
     "output_type": "execute_result"
    }
   ],
   "source": [
    "w.graph"
   ]
  },
  {
   "cell_type": "code",
   "execution_count": 5,
   "metadata": {},
   "outputs": [
    {
     "data": {
      "text/plain": [
       "{'_dom_classes': (),\n",
       " '_model_module': 'ipypetrinet',\n",
       " '_model_module_version': '^0.1.0',\n",
       " '_model_name': 'PetriModel',\n",
       " '_view_count': None,\n",
       " '_view_module': 'ipypetrinet',\n",
       " '_view_module_version': '^0.1.0',\n",
       " '_view_name': 'PetriView',\n",
       " 'caseAttrs': [],\n",
       " 'graph': [],\n",
       " 'layout': 'IPY_MODEL_3d6715089174474faeda02f22552fb7b'}"
      ]
     },
     "execution_count": 5,
     "metadata": {},
     "output_type": "execute_result"
    }
   ],
   "source": [
    "w.get_state()"
   ]
  },
  {
   "cell_type": "code",
   "execution_count": null,
   "metadata": {},
   "outputs": [],
   "source": []
  }
 ],
 "metadata": {
  "kernelspec": {
   "display_name": "Python 3 (ipykernel)",
   "language": "python",
   "name": "python3"
  },
  "language_info": {
   "codemirror_mode": {
    "name": "ipython",
    "version": 3
   },
   "file_extension": ".py",
   "mimetype": "text/x-python",
   "name": "python",
   "nbconvert_exporter": "python",
   "pygments_lexer": "ipython3",
   "version": "3.9.7"
  }
 },
 "nbformat": 4,
 "nbformat_minor": 2
}
