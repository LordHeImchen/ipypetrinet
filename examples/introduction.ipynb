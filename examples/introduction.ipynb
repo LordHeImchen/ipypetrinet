{
 "cells": [
  {
   "cell_type": "markdown",
   "metadata": {},
   "source": [
    "# Introduction"
   ]
  },
  {
   "cell_type": "code",
   "execution_count": 1,
   "metadata": {},
   "outputs": [],
   "source": [
    "from ipypetrinet import PetriWidget"
   ]
  },
  {
   "cell_type": "code",
   "execution_count": 2,
   "metadata": {},
   "outputs": [],
   "source": [
    "# TODO:\n",
    "# - JSON FILE: die alle Examples gespeichert hat, wo man auch eigene Graphen einspeichern kann"
   ]
  },
  {
   "cell_type": "code",
   "execution_count": 3,
   "metadata": {},
   "outputs": [
    {
     "data": {
      "application/vnd.jupyter.widget-view+json": {
       "model_id": "9c952b224876403ba94e8ca2a202f312",
       "version_major": 2,
       "version_minor": 0
      },
      "text/plain": [
       "PetriWidget()"
      ]
     },
     "metadata": {},
     "output_type": "display_data"
    }
   ],
   "source": [
    "w = PetriWidget()\n",
    "w"
   ]
  },
  {
   "cell_type": "code",
   "execution_count": 4,
   "metadata": {},
   "outputs": [
    {
     "data": {
      "text/plain": [
       "[]"
      ]
     },
     "execution_count": 4,
     "metadata": {},
     "output_type": "execute_result"
    }
   ],
   "source": [
    "w.graph"
   ]
  },
  {
   "cell_type": "code",
   "execution_count": 5,
   "metadata": {},
   "outputs": [
    {
     "data": {
      "text/plain": [
       "{'_dom_classes': (),\n",
       " '_model_module': 'ipypetrinet',\n",
       " '_model_module_version': '^0.1.0',\n",
       " '_model_name': 'PetriModel',\n",
       " '_view_count': None,\n",
       " '_view_module': 'ipypetrinet',\n",
       " '_view_module_version': '^0.1.0',\n",
       " '_view_name': 'PetriView',\n",
       " 'graph': [],\n",
       " 'layout': 'IPY_MODEL_c451f0418fd84d2796318e5019e2ef39'}"
      ]
     },
     "execution_count": 5,
     "metadata": {},
     "output_type": "execute_result"
    }
   ],
   "source": [
    "w.get_state()"
   ]
  },
  {
   "cell_type": "code",
   "execution_count": 6,
   "metadata": {},
   "outputs": [],
   "source": [
    "# w.saveGraph(path)"
   ]
  },
  {
   "cell_type": "code",
   "execution_count": 7,
   "metadata": {},
   "outputs": [],
   "source": [
    "# w.loadGraph(path)"
   ]
  },
  {
   "cell_type": "code",
   "execution_count": 8,
   "metadata": {},
   "outputs": [],
   "source": [
    "def encription(msg):\n",
    "    bytechars = []\n",
    "    for char in msg:\n",
    "        bytechars += bytes(char, \"utf-8\")\n",
    "        \n",
    "    enc = \"\"\n",
    "    for i in bytechars:\n",
    "        print(i)\n",
    "        enc += chr((123*i+18)%256)\n",
    "        \n",
    "    return enc"
   ]
  },
  {
   "cell_type": "code",
   "execution_count": 9,
   "metadata": {},
   "outputs": [
    {
     "name": "stdout",
     "output_type": "stream",
     "text": [
      "72\n",
      "97\n",
      "108\n",
      "108\n",
      "111\n"
     ]
    },
    {
     "data": {
      "text/plain": [
       "'ª\\xadöög'"
      ]
     },
     "execution_count": 9,
     "metadata": {},
     "output_type": "execute_result"
    }
   ],
   "source": [
    "encription(\"Hallo\")"
   ]
  },
  {
   "cell_type": "code",
   "execution_count": 10,
   "metadata": {},
   "outputs": [],
   "source": [
    "def decript(hexmessage):\n",
    "    bytesarray = bytearray.fromhex(hexmessage)\n",
    "    print(bytesarray)\n",
    "    res = \"\"\n",
    "    for i in bytesarray:\n",
    "        for j in range(256):\n",
    "            if (123*j+18)%256 == i:\n",
    "                res += chr(j)\n",
    "    return res"
   ]
  },
  {
   "cell_type": "code",
   "execution_count": 11,
   "metadata": {},
   "outputs": [
    {
     "name": "stdout",
     "output_type": "stream",
     "text": [
      "bytearray(b'\\xf3gr\\x1eIr{\\xf6\\x99\\x85\\xec\\x99r\\xf3\\xa3\\n\\xf6I\\xa3\\n\\xad,r\\xa0\\x99\\xce\\xb0r\\n\\xadS\\xce\\x99rq\\xadr\\x99\\xecr(\\x85SS\\xa3\\n\\x99\\xecr?\\xadSr\\xb0Ir\\xceI\\xecr\\xf0\\xc5r\\x8c\\xad\\xa3\\n\\n\\x99\\xd8r\\x8f\\x99\\n\\xce\\xcfSr\\xec\\xad\\xa3\\nrd\\x99\\xd8\\x1e\\x85r\\x11&\\xce\\xce\\x99\\xd8r\\xb0\\x99\\xd8\\x14\\x85\\xa3{\\x99\\xecr\\xf6g\\xf66r\\xad(\\x99\\xd8r\\x00\\x99\\xce\\xb0\\xcer\\x99\\xd8S\\xceq\\xad\\xf6r\\x1b\\x99\\xd8q\\x85\\xcerS\\xa3\\n\\xadI\\x99\\xecr{\\xad\\xe2\\xe2\\xad\\xedr\\xaan\\xc8+\\xf6\"\"{\\xb7\\x0e\\x7f\\xb75\"I\\xb7\\xd8\\x93\\xc4\\x93\\xd8S\\x9d\\xec\\x8f\\xb7\\x93]I\\x0e\\x7f\\x9d\"\\xec\\x89\\xb7\\xa3\"\\xec\\x8f\\xd8\\x0e\\x7f\\x89!')\n"
     ]
    },
    {
     "data": {
      "text/plain": [
       "\"So du kleine Schlucha. Jetz haste ma en bisschen was zu tun :) Nachher geht's nach Verdi Mütter zerficken lol, aber jetzt erstmal Kermit schauen kappa! HTB{l00k_47_y0u_r3v3rs1ng_3qu4710n5_c0ngr475}\""
      ]
     },
     "execution_count": 11,
     "metadata": {},
     "output_type": "execute_result"
    }
   ],
   "source": [
    "hexi = \"f367721e49727bf69985ec9972f3a30af649a30aad2c72a099ceb0720aad53ce997271ad7299ec7228855353a30a99ec723fad5372b04972ce49ec72f0c5728cada30a0a99d8728f990acecf5372ecada30a726499d81e85721126cece99d872b099d81485a37b99ec72f667f63672ad2899d8720099ceb0ce7299d853ce71adf6721b99d87185ce7253a30aad4999ec727bade2e2aded72aa6ec82bf622227bb70e7fb7352249b7d893c493d8539dec8fb7935d490e7f9d22ec89b7a322ec8fd80e7f8921\"\n",
    "\n",
    "decript(hexi)"
   ]
  },
  {
   "cell_type": "code",
   "execution_count": null,
   "metadata": {},
   "outputs": [],
   "source": []
  }
 ],
 "metadata": {
  "kernelspec": {
   "display_name": "Python 3 (ipykernel)",
   "language": "python",
   "name": "python3"
  },
  "language_info": {
   "codemirror_mode": {
    "name": "ipython",
    "version": 3
   },
   "file_extension": ".py",
   "mimetype": "text/x-python",
   "name": "python",
   "nbconvert_exporter": "python",
   "pygments_lexer": "ipython3",
   "version": "3.9.7"
  }
 },
 "nbformat": 4,
 "nbformat_minor": 2
}
