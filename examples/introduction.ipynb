{
 "cells": [
  {
   "cell_type": "markdown",
   "metadata": {},
   "source": [
    "# Introduction"
   ]
  },
  {
   "cell_type": "code",
   "execution_count": 1,
   "metadata": {},
   "outputs": [],
   "source": [
    "from ipypetrinet import PetriWidget"
   ]
  },
  {
   "cell_type": "markdown",
   "metadata": {},
   "source": [
    "Falls loops: Abbruchbedingung Tracelänge\n",
    "Ohne Loops: Directly Follows Graph zeichnen und durchgehen\n",
    "\n",
    "Button: Case-Attribute hinzufügen"
   ]
  },
  {
   "cell_type": "code",
   "execution_count": 2,
   "metadata": {
    "scrolled": false
   },
   "outputs": [
    {
     "data": {
      "application/vnd.jupyter.widget-view+json": {
       "model_id": "65827cbd0eea430eb09b352bd5fd1634",
       "version_major": 2,
       "version_minor": 0
      },
      "text/plain": [
       "PetriWidget()"
      ]
     },
     "metadata": {},
     "output_type": "display_data"
    }
   ],
   "source": [
    "w = PetriWidget()\n",
    "w"
   ]
  },
  {
   "cell_type": "code",
   "execution_count": 7,
   "metadata": {
    "scrolled": false
   },
   "outputs": [
    {
     "data": {
      "text/plain": [
       "[{'type': 'Link',\n",
       "  'id': 'dc5e689e-4993-485a-b330-67202e066f25',\n",
       "  'prob': 1,\n",
       "  'source': '4d6b142b-c253-4d30-afd7-a5e4371ac78b',\n",
       "  'target': '4f551624-1fd3-441d-9026-ff5693ded779'},\n",
       " {'type': 'Link',\n",
       "  'id': '66ae5a65-3015-4106-bb2e-4273169040e2',\n",
       "  'prob': 1,\n",
       "  'source': '4f551624-1fd3-441d-9026-ff5693ded779',\n",
       "  'target': '3f356819-0013-42e5-9e5f-d27cc7428a57'},\n",
       " {'type': 'Link',\n",
       "  'id': 'd8e45848-d668-48a3-a3c0-a6c3f05d8907',\n",
       "  'prob': 1,\n",
       "  'source': '3f356819-0013-42e5-9e5f-d27cc7428a57',\n",
       "  'target': '86367be9-ae42-4a6d-88aa-576c4b057243'},\n",
       " {'type': 'Link',\n",
       "  'id': '2b745513-309c-49e3-8f7c-e9bc004c51b8',\n",
       "  'prob': 0.85,\n",
       "  'source': '86367be9-ae42-4a6d-88aa-576c4b057243',\n",
       "  'target': '4d6b142b-c253-4d30-afd7-a5e4371ac78b'},\n",
       " {'type': 'Link',\n",
       "  'id': 'a9563f5e-55da-4c9b-ad01-8b935aa03bf3',\n",
       "  'prob': 0.15,\n",
       "  'source': '86367be9-ae42-4a6d-88aa-576c4b057243',\n",
       "  'target': '917dba19-5a24-4f8f-912d-2915df4222e5'},\n",
       " {'type': 'Link',\n",
       "  'id': '8b4a0c94-ca38-407f-8eb2-71c241f20d31',\n",
       "  'prob': 1,\n",
       "  'source': '917dba19-5a24-4f8f-912d-2915df4222e5',\n",
       "  'target': 'a0b6daa9-67e7-4d1f-86f8-64ede780eb07'},\n",
       " {'type': 'Place',\n",
       "  'id': '4f551624-1fd3-441d-9026-ff5693ded779',\n",
       "  'name': 'ready',\n",
       "  'tokens': 1},\n",
       " {'type': 'Place',\n",
       "  'id': '86367be9-ae42-4a6d-88aa-576c4b057243',\n",
       "  'name': 'idle',\n",
       "  'tokens': 0},\n",
       " {'type': 'Transition',\n",
       "  'id': '4d6b142b-c253-4d30-afd7-a5e4371ac78b',\n",
       "  'name': 'produce',\n",
       "  'conditions': []},\n",
       " {'type': 'Transition',\n",
       "  'id': '3f356819-0013-42e5-9e5f-d27cc7428a57',\n",
       "  'name': 'send',\n",
       "  'conditions': []},\n",
       " {'type': 'Transition',\n",
       "  'id': '917dba19-5a24-4f8f-912d-2915df4222e5',\n",
       "  'name': 'EndLoop',\n",
       "  'conditions': []},\n",
       " {'type': 'Place',\n",
       "  'id': 'a0b6daa9-67e7-4d1f-86f8-64ede780eb07',\n",
       "  'name': '',\n",
       "  'tokens': 0}]"
      ]
     },
     "execution_count": 7,
     "metadata": {},
     "output_type": "execute_result"
    }
   ],
   "source": [
    "cells = w.graph\n",
    "w.graph"
   ]
  },
  {
   "cell_type": "code",
   "execution_count": 4,
   "metadata": {},
   "outputs": [
    {
     "data": {
      "text/plain": [
       "{'_dom_classes': (),\n",
       " '_model_module': 'ipypetrinet',\n",
       " '_model_module_version': '^0.1.0',\n",
       " '_model_name': 'PetriModel',\n",
       " '_view_count': None,\n",
       " '_view_module': 'ipypetrinet',\n",
       " '_view_module_version': '^0.1.0',\n",
       " '_view_name': 'PetriView',\n",
       " 'graph': [],\n",
       " 'layout': 'IPY_MODEL_5b4864d2d0844d35b3c3dbd062b8601b'}"
      ]
     },
     "execution_count": 4,
     "metadata": {},
     "output_type": "execute_result"
    }
   ],
   "source": [
    "w.get_state()"
   ]
  },
  {
   "cell_type": "code",
   "execution_count": null,
   "metadata": {},
   "outputs": [],
   "source": []
  }
 ],
 "metadata": {
  "kernelspec": {
   "display_name": "Python 3 (ipykernel)",
   "language": "python",
   "name": "python3"
  },
  "language_info": {
   "codemirror_mode": {
    "name": "ipython",
    "version": 3
   },
   "file_extension": ".py",
   "mimetype": "text/x-python",
   "name": "python",
   "nbconvert_exporter": "python",
   "pygments_lexer": "ipython3",
   "version": "3.9.7"
  }
 },
 "nbformat": 4,
 "nbformat_minor": 2
}
